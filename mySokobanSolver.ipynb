{
 "cells": [
  {
   "cell_type": "markdown",
   "id": "9a16cf36-fd5b-4483-b427-302157db3600",
   "metadata": {
    "tags": []
   },
   "source": [
    "### IFN680 Sokoban Assignment\n",
    "\n",
    "\n",
    "The functions and classes defined in this module will be called by a marker script. \n",
    "You should complete the functions and classes according to their specified interfaces.\n",
    "\n",
    "You are not allowed to change the defined interfaces.\n",
    "That is, changing the formal parameters of a function will break the \n",
    "interface and triggers to a fail for the test of your code.\n",
    " "
   ]
  },
  {
   "cell_type": "code",
   "execution_count": null,
   "id": "edce37bf",
   "metadata": {},
   "outputs": [],
   "source": []
  },
  {
   "cell_type": "code",
   "execution_count": null,
   "id": "41a45ba6-19b2-448e-a1d5-4e0fff3fe580",
   "metadata": {
    "tags": []
   },
   "outputs": [],
   "source": [
    "# Imports\n",
    "\n",
    "import search\n",
    "import sokoban\n",
    "import tabooCells\n",
    "from canGoThereSearch import can_go_there, CanGoThereSearch\n",
    "from tabooCells import get_taboo_cells_positions\n",
    "from collections import namedtuple\n",
    "from SokobanPuzzle import SokobanPuzzle\n"
   ]
  },
  {
   "cell_type": "code",
   "execution_count": null,
   "id": "38157f14-a80c-4849-a120-eaf745cadeaa",
   "metadata": {
    "tags": []
   },
   "outputs": [],
   "source": [
    "def my_team():\n",
    "    '''\n",
    "    Return the list of the team members of this assignment submission as a list\n",
    "    of triplet of the form (student_number, first_name, last_name)\n",
    "    \n",
    "    '''\n",
    "    return [(11771984, 'Daniel', 'Skauge'), (11771861, 'Erlend', 'Eiring')]"
   ]
  },
  {
   "cell_type": "code",
   "execution_count": null,
   "id": "d3199673-736c-4132-b25e-f7d11d33b67f",
   "metadata": {
    "tags": []
   },
   "outputs": [],
   "source": [
    "def taboo_cells(warehouse):\n",
    "    raise NotImplementedError()"
   ]
  },
  {
   "cell_type": "code",
   "execution_count": null,
   "id": "717928f7-2ac8-4b79-87e0-d41b4f067fb2",
   "metadata": {
    "tags": []
   },
   "outputs": [],
   "source": [
    "class SokobanPuzzle(search.Problem):\n",
    "    raise NotImplementedError()"
   ]
  },
  {
   "cell_type": "code",
   "execution_count": null,
   "id": "279941fd-1dfa-445b-a611-b9a7563ebadb",
   "metadata": {
    "tags": []
   },
   "outputs": [],
   "source": [
    "def check_action_seq(warehouse, action_seq):\n",
    "    raise NotImplementedError()"
   ]
  },
  {
   "cell_type": "code",
   "execution_count": null,
   "id": "640ee872-df9e-43d6-827c-d398d60e3750",
   "metadata": {
    "tags": []
   },
   "outputs": [],
   "source": [
    "def solve_sokoban_elem(warehouse):\n",
    "    raise NotImplementedError()"
   ]
  },
  {
   "cell_type": "code",
   "execution_count": null,
   "id": "b1c29d0e",
   "metadata": {},
   "outputs": [],
   "source": [
    "def can_go_there(warehouse, dst):\n",
    "    raise NotImplementedError()"
   ]
  },
  {
   "cell_type": "code",
   "execution_count": null,
   "id": "62a1a6a4",
   "metadata": {},
   "outputs": [],
   "source": [
    "def solve_sokoban_macro(warehouse):\n",
    "    raise NotImplementedError()"
   ]
  }
 ],
 "metadata": {
  "kernelspec": {
   "display_name": "Python 3 (ipykernel)",
   "language": "python",
   "name": "python3"
  },
  "language_info": {
   "codemirror_mode": {
    "name": "ipython",
    "version": 3
   },
   "file_extension": ".py",
   "mimetype": "text/x-python",
   "name": "python",
   "nbconvert_exporter": "python",
   "pygments_lexer": "ipython3",
   "version": "3.8.12"
  }
 },
 "nbformat": 4,
 "nbformat_minor": 5
}
