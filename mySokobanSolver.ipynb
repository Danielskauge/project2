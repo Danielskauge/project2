{
 "cells": [
  {
   "cell_type": "markdown",
   "id": "9a16cf36-fd5b-4483-b427-302157db3600",
   "metadata": {
    "tags": []
   },
   "source": [
    "### IFN680 Sokoban Assignment\n",
    "\n",
    "\n",
    "The functions and classes defined in this module will be called by a marker script. \n",
    "You should complete the functions and classes according to their specified interfaces.\n",
    "\n",
    "You are not allowed to change the defined interfaces.\n",
    "That is, changing the formal parameters of a function will break the \n",
    "interface and triggers to a fail for the test of your code.\n",
    " "
   ]
  },
  {
   "cell_type": "code",
   "execution_count": 2,
   "id": "41a45ba6-19b2-448e-a1d5-4e0fff3fe580",
   "metadata": {
    "tags": []
   },
   "outputs": [],
   "source": [
    "# Imports\n",
    "\n",
    "import search\n",
    "import sokoban\n",
    "import tabooCells"
   ]
  },
  {
   "cell_type": "code",
   "execution_count": null,
   "id": "cbc837dc",
   "metadata": {},
   "outputs": [],
   "source": []
  },
  {
   "cell_type": "code",
   "execution_count": 3,
   "id": "38157f14-a80c-4849-a120-eaf745cadeaa",
   "metadata": {
    "tags": []
   },
   "outputs": [
    {
     "ename": "SyntaxError",
     "evalue": "invalid syntax (<ipython-input-3-efd5212f5cc6>, line 7)",
     "output_type": "error",
     "traceback": [
      "\u001b[1;36m  File \u001b[1;32m\"<ipython-input-3-efd5212f5cc6>\"\u001b[1;36m, line \u001b[1;32m7\u001b[0m\n\u001b[1;33m    return [ (11771984, 'Daniel', 'Skauge'), (123 '...', '...')]\u001b[0m\n\u001b[1;37m                                                  ^\u001b[0m\n\u001b[1;31mSyntaxError\u001b[0m\u001b[1;31m:\u001b[0m invalid syntax\n"
     ]
    }
   ],
   "source": [
    "def my_team():\n",
    "    '''\n",
    "    Return the list of the team members of this assignment submission as a list\n",
    "    of triplet of the form (student_number, first_name, last_name)\n",
    "    \n",
    "    '''\n",
    "    return [(11771984, 'Daniel', 'Skauge'), (123, '...', '...')]"
   ]
  },
  {
   "cell_type": "code",
   "execution_count": 13,
   "id": "d3199673-736c-4132-b25e-f7d11d33b67f",
   "metadata": {
    "tags": []
   },
   "outputs": [],
   "source": [
    "\n",
    "class SokobanPuzzle(search.Problem):\n",
    "    '''\n",
    "    An instance of the class 'SokobanPuzzle' represents a Sokoban puzzle.\n",
    "    An instance contains information about the walls, the targets, the boxes\n",
    "    and the worker.\n",
    "\n",
    "    Your implementation should be fully compatible with the search functions of \n",
    "    the provided module 'search.py'. \n",
    "    \n",
    "    Each instance should have at least the following attributes\n",
    "    - self.allow_taboo_push\n",
    "    - self.macro\n",
    "    \n",
    "    When self.allow_taboo_push is set to True, the 'actions' function should \n",
    "    return all possible legal moves including those that move a box on a taboo \n",
    "    cell. If self.allow_taboo_push is set to False, those moves should not be\n",
    "    included in the returned list of actions.\n",
    "    \n",
    "    If self.macro is set True, the 'actions' function should return \n",
    "    macro actions. If self.macro is set False, the 'actions' function should \n",
    "    return elementary actions.\n",
    "    \n",
    "    \n",
    "    '''\n",
    "    #\n",
    "    #         \"INSERT YOUR CODE HERE\"\n",
    "    #\n",
    "    #     Revisit the sliding puzzle and the pancake puzzle for inspiration!\n",
    "    #\n",
    "    #     Note that you will need to add several functions to \n",
    "    #     complete this class. For example, a 'result' function is needed\n",
    "    #     to satisfy the interface of 'search.Problem'.\n",
    "\n",
    "    \n",
    "    def __init__(self, warehouse):\n",
    "        self.allow_taboo_push = False\n",
    "        self.macro = True\n",
    "        self.warehouse = warehouse\n",
    "\n",
    "    def actions(self, state):\n",
    "        \"\"\"\n",
    "        Return the list of actions that can be executed in the given state.\n",
    "        \n",
    "        As specified in the header comment of this class, the attributes\n",
    "        'self.allow_taboo_push' and 'self.macro' should be tested to determine\n",
    "        what type of list of actions is to be returned.\n",
    "        \"\"\"\n",
    "        raise NotImplementedError\n",
    "    \n",
    "    def result(self, state, action):\n"
   ]
  },
  {
   "cell_type": "code",
   "execution_count": 14,
   "id": "717928f7-2ac8-4b79-87e0-d41b4f067fb2",
   "metadata": {
    "tags": []
   },
   "outputs": [],
   "source": [
    "def check_action_seq(warehouse, action_seq):\n",
    "    '''\n",
    "    \n",
    "    Determine if the sequence of actions listed in 'action_seq' is legal or not.\n",
    "    \n",
    "    Important notes:\n",
    "      - a legal sequence of actions does not necessarily solve the puzzle.\n",
    "      - an action is legal even if it pushes a box onto a taboo cell.\n",
    "        \n",
    "    @param warehouse: a valid Warehouse object\n",
    "\n",
    "    @param action_seq: a sequence of legal actions.\n",
    "           For example, ['Left', 'Down', Down','Right', 'Up', 'Down']\n",
    "           \n",
    "    @return\n",
    "        The string 'Failure', if one of the action was not successul.\n",
    "           For example, if the agent tries to push two boxes at the same time,\n",
    "                        or push one box into a wall.\n",
    "        Otherwise, if all actions were successful, return                 \n",
    "               A string representing the state of the puzzle after applying\n",
    "               the sequence of actions.  This must be the same string as the\n",
    "               string returned by the method  Warehouse.__str__()\n",
    "    '''\n",
    "    \n",
    "    ##         \"INSERT YOUR CODE HERE\"\n",
    "    \n",
    "    raise NotImplementedError()\n"
   ]
  },
  {
   "cell_type": "code",
   "execution_count": 15,
   "id": "279941fd-1dfa-445b-a611-b9a7563ebadb",
   "metadata": {
    "tags": []
   },
   "outputs": [],
   "source": [
    "def solve_sokoban_elem(warehouse):\n",
    "    '''    \n",
    "    This function should solve using elementary actions \n",
    "    the puzzle defined in a file.\n",
    "    \n",
    "    @param warehouse: a valid Warehouse object\n",
    "\n",
    "    @return\n",
    "        If puzzle cannot be solved return the string 'Impossible'\n",
    "        If a solution was found, return a list of elementary actions that solves\n",
    "            the given puzzle coded with 'Left', 'Right', 'Up', 'Down'\n",
    "            For example, ['Left', 'Down', Down','Right', 'Up', 'Down']\n",
    "            If the puzzle is already in a goal state, simply return []\n",
    "    '''\n",
    "    \n",
    "    ##         \"INSERT YOUR CODE HERE\"\n",
    "    \n",
    "    raise NotImplementedError()"
   ]
  },
  {
   "cell_type": "code",
   "execution_count": 8,
   "id": "68285bfb-6051-4c45-aa4f-3abf1bc3053a",
   "metadata": {
    "tags": []
   },
   "outputs": [],
   "source": [
    "def can_go_there(warehouse, dst):\n",
    "    '''    \n",
    "    Determine whether the worker can walk to the cell dst=(row,column) \n",
    "    without pushing any box.\n",
    "    \n",
    "    @param warehouse: a valid Warehouse object\n",
    "\n",
    "    @return\n",
    "      True if the worker can walk to cell dst=(row,column) without pushing any box\n",
    "      False otherwise\n",
    "    '''\n",
    "    \n",
    "    ##         \"INSERT YOUR CODE HERE\"\n",
    "    \n",
    "    raise NotImplementedError()"
   ]
  },
  {
   "cell_type": "code",
   "execution_count": 9,
   "id": "640ee872-df9e-43d6-827c-d398d60e3750",
   "metadata": {
    "tags": []
   },
   "outputs": [],
   "source": [
    "def solve_sokoban_macro(warehouse):\n",
    "    '''    \n",
    "    Solve using macro actions the puzzle defined in the warehouse passed as\n",
    "    a parameter. A sequence of macro actions should be \n",
    "    represented by a list M of the form\n",
    "            [ ((r1,c1), a1), ((r2,c2), a2), ..., ((rn,cn), an) ]\n",
    "    For example M = [ ((3,4),'Left') , ((5,2),'Up'), ((12,4),'Down') ] \n",
    "    means that the worker first goes the box at row 3 and column 4 and pushes it left,\n",
    "    then goes to the box at row 5 and column 2 and pushes it up, and finally\n",
    "    goes the box at row 12 and column 4 and pushes it down.\n",
    "    \n",
    "    @param warehouse: a valid Warehouse object\n",
    "\n",
    "    @return\n",
    "        If puzzle cannot be solved return the string 'Impossible'\n",
    "        Otherwise return M a sequence of macro actions that solves the puzzle.\n",
    "        If the puzzle is already in a goal state, simply return []\n",
    "    '''\n",
    "    \n",
    "    ##         \"INSERT YOUR CODE HERE\"\n",
    "    \n",
    "    raise NotImplementedError()"
   ]
  }
 ],
 "metadata": {
  "kernelspec": {
   "display_name": "Python 3 (ipykernel)",
   "language": "python",
   "name": "python3"
  },
  "language_info": {
   "codemirror_mode": {
    "name": "ipython",
    "version": 3
   },
   "file_extension": ".py",
   "mimetype": "text/x-python",
   "name": "python",
   "nbconvert_exporter": "python",
   "pygments_lexer": "ipython3",
   "version": "3.8.12"
  }
 },
 "nbformat": 4,
 "nbformat_minor": 5
}
