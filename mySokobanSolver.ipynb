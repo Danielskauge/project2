{
 "cells": [
  {
   "cell_type": "markdown",
   "id": "9a16cf36-fd5b-4483-b427-302157db3600",
   "metadata": {
    "tags": []
   },
   "source": [
    "### IFN680 Sokoban Assignment\n",
    "\n",
    "\n",
    "The functions and classes defined in this module will be called by a marker script. \n",
    "You should complete the functions and classes according to their specified interfaces.\n",
    "\n",
    "You are not allowed to change the defined interfaces.\n",
    "That is, changing the formal parameters of a function will break the \n",
    "interface and triggers to a fail for the test of your code.\n",
    " "
   ]
  },
  {
   "cell_type": "code",
   "execution_count": null,
   "id": "edce37bf",
   "metadata": {},
   "outputs": [],
   "source": []
  },
  {
   "cell_type": "code",
   "execution_count": 3,
   "id": "41a45ba6-19b2-448e-a1d5-4e0fff3fe580",
   "metadata": {
    "tags": []
   },
   "outputs": [],
   "source": [
    "# Imports\n",
    "\n",
    "import search\n",
    "import sokoban\n",
    "import tabooCells\n",
    "from canGoThereSearch import can_go_there, CanGoThereSearch\n",
    "from tabooCells import get_taboo_cells_positions\n",
    "from collections import namedtuple\n",
    "from SokobanPuzzle import SokobanPuzzle\n"
   ]
  },
  {
   "cell_type": "code",
   "execution_count": null,
   "id": "cbc837dc",
   "metadata": {},
   "outputs": [],
   "source": []
  },
  {
   "cell_type": "code",
   "execution_count": 3,
   "id": "38157f14-a80c-4849-a120-eaf745cadeaa",
   "metadata": {
    "tags": []
   },
   "outputs": [
    {
     "ename": "SyntaxError",
     "evalue": "invalid syntax (<ipython-input-3-efd5212f5cc6>, line 7)",
     "output_type": "error",
     "traceback": [
      "\u001b[1;36m  File \u001b[1;32m\"<ipython-input-3-efd5212f5cc6>\"\u001b[1;36m, line \u001b[1;32m7\u001b[0m\n\u001b[1;33m    return [ (11771984, 'Daniel', 'Skauge'), (123 '...', '...')]\u001b[0m\n\u001b[1;37m                                                  ^\u001b[0m\n\u001b[1;31mSyntaxError\u001b[0m\u001b[1;31m:\u001b[0m invalid syntax\n"
     ]
    }
   ],
   "source": [
    "def my_team():\n",
    "    '''\n",
    "    Return the list of the team members of this assignment submission as a list\n",
    "    of triplet of the form (student_number, first_name, last_name)\n",
    "    \n",
    "    '''\n",
    "    return [(11771984, 'Daniel', 'Skauge'), (123, '...', '...')]"
   ]
  },
  {
   "cell_type": "code",
   "execution_count": 14,
   "id": "d3199673-736c-4132-b25e-f7d11d33b67f",
   "metadata": {
    "tags": []
   },
   "outputs": [
    {
     "ename": "SyntaxError",
     "evalue": "unexpected EOF while parsing (<ipython-input-14-1a132ed414d0>, line 118)",
     "output_type": "error",
     "traceback": [
      "\u001b[1;36m  File \u001b[1;32m\"<ipython-input-14-1a132ed414d0>\"\u001b[1;36m, line \u001b[1;32m118\u001b[0m\n\u001b[1;33m    def result(self, state, action):\u001b[0m\n\u001b[1;37m                                    ^\u001b[0m\n\u001b[1;31mSyntaxError\u001b[0m\u001b[1;31m:\u001b[0m unexpected EOF while parsing\n"
     ]
    }
   ],
   "source": [
    "\n"
   ]
  },
  {
   "cell_type": "code",
   "execution_count": 5,
   "id": "717928f7-2ac8-4b79-87e0-d41b4f067fb2",
   "metadata": {
    "tags": []
   },
   "outputs": [],
   "source": [
    "def check_action_seq(warehouse, action_seq):\n",
    "\n",
    "    '''\n",
    "    \n",
    "    Determine if the sequence of actions listed in 'action_seq' is legal or not.\n",
    "    \n",
    "    Important notes:\n",
    "      - a legal sequence of actions does not necessarily solve the puzzle.\n",
    "      - an action is legal even if it pushes a box onto a taboo cell.\n",
    "        \n",
    "    @param warehouse: a valid Warehouse object\n",
    "\n",
    "    @param action_seq: a sequence of legal actions.\n",
    "           For example, ['Left', 'Down', Down','Right', 'Up', 'Down']\n",
    "           \n",
    "    @return\n",
    "        The string 'Failure', if one of the action was not successul.\n",
    "           For example, if the agent tries to push two boxes at the same time,\n",
    "                        or push one box into a wall.\n",
    "        Otherwise, if all actions were successful, return                 \n",
    "               A string representing the state of the puzzle after applying\n",
    "               the sequence of actions.  This must be the same string as the\n",
    "               string returned by the method  Warehouse.__str__()\n",
    "    '''\n",
    "    \n",
    "    ##         \"INSERT YOUR CODE HERE\"\n",
    "    \n",
    "    raise NotImplementedError()\n"
   ]
  },
  {
   "cell_type": "code",
   "execution_count": 4,
   "id": "279941fd-1dfa-445b-a611-b9a7563ebadb",
   "metadata": {
    "tags": []
   },
   "outputs": [],
   "source": [
    "\n",
    "\n",
    "    \n",
    "    \n"
   ]
  },
  {
   "cell_type": "code",
   "execution_count": 6,
   "id": "640ee872-df9e-43d6-827c-d398d60e3750",
   "metadata": {
    "tags": []
   },
   "outputs": [],
   "source": []
  }
 ],
 "metadata": {
  "kernelspec": {
   "display_name": "Python 3 (ipykernel)",
   "language": "python",
   "name": "python3"
  },
  "language_info": {
   "codemirror_mode": {
    "name": "ipython",
    "version": 3
   },
   "file_extension": ".py",
   "mimetype": "text/x-python",
   "name": "python",
   "nbconvert_exporter": "python",
   "pygments_lexer": "ipython3",
   "version": "3.8.12"
  }
 },
 "nbformat": 4,
 "nbformat_minor": 5
}
