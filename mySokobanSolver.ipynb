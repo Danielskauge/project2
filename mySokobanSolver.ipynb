{
 "cells": [
  {
   "cell_type": "markdown",
   "id": "9a16cf36-fd5b-4483-b427-302157db3600",
   "metadata": {
    "tags": []
   },
   "source": [
    "### IFN680 Sokoban Assignment\n",
    "\n",
    "\n",
    "The functions and classes defined in this module will be called by a marker script. \n",
    "You should complete the functions and classes according to their specified interfaces.\n",
    "\n",
    "You are not allowed to change the defined interfaces.\n",
    "That is, changing the formal parameters of a function will break the \n",
    "interface and triggers to a fail for the test of your code.\n",
    " "
   ]
  },
  {
   "cell_type": "code",
   "execution_count": 17,
   "id": "41a45ba6-19b2-448e-a1d5-4e0fff3fe580",
   "metadata": {
    "tags": []
   },
   "outputs": [
    {
     "ename": "ImportError",
     "evalue": "cannot import name 'get_taboo_cells_positions' from 'tabooCells' (c:\\Users\\Daniel\\Documents\\QUT\\AI&ML\\project2\\tabooCells.py)",
     "output_type": "error",
     "traceback": [
      "\u001b[1;31m---------------------------------------------------------------------------\u001b[0m",
      "\u001b[1;31mImportError\u001b[0m                               Traceback (most recent call last)",
      "\u001b[1;32m<ipython-input-17-1281ffd7caab>\u001b[0m in \u001b[0;36m<module>\u001b[1;34m\u001b[0m\n\u001b[0;32m      6\u001b[0m \u001b[1;32mfrom\u001b[0m \u001b[0mcanGoThereSearch\u001b[0m \u001b[1;32mimport\u001b[0m \u001b[0mCan_go_there_search\u001b[0m\u001b[1;33m\u001b[0m\u001b[1;33m\u001b[0m\u001b[0m\n\u001b[0;32m      7\u001b[0m \u001b[1;32mfrom\u001b[0m \u001b[0mcanGoThereSearch\u001b[0m \u001b[1;32mimport\u001b[0m \u001b[0mcan_go_there\u001b[0m\u001b[1;33m,\u001b[0m \u001b[0mCan_go_there_search\u001b[0m\u001b[1;33m\u001b[0m\u001b[1;33m\u001b[0m\u001b[0m\n\u001b[1;32m----> 8\u001b[1;33m \u001b[1;32mfrom\u001b[0m \u001b[0mtabooCells\u001b[0m \u001b[1;32mimport\u001b[0m \u001b[0mget_taboo_cells_positions\u001b[0m\u001b[1;33m\u001b[0m\u001b[1;33m\u001b[0m\u001b[0m\n\u001b[0m\u001b[0;32m      9\u001b[0m \u001b[1;32mfrom\u001b[0m \u001b[0mcollections\u001b[0m \u001b[1;32mimport\u001b[0m \u001b[0mnamedtuple\u001b[0m\u001b[1;33m\u001b[0m\u001b[1;33m\u001b[0m\u001b[0m\n",
      "\u001b[1;31mImportError\u001b[0m: cannot import name 'get_taboo_cells_positions' from 'tabooCells' (c:\\Users\\Daniel\\Documents\\QUT\\AI&ML\\project2\\tabooCells.py)"
     ]
    }
   ],
   "source": [
    "# Imports\n",
    "\n",
    "import search\n",
    "import sokoban\n",
    "import tabooCells\n",
    "from canGoThereSearch import Can_go_there_search\n",
    "from canGoThereSearch import can_go_there, Can_go_there_search\n",
    "from tabooCells import get_taboo_cells_positions\n",
    "from collections import namedtuple\n"
   ]
  },
  {
   "cell_type": "code",
   "execution_count": null,
   "id": "cbc837dc",
   "metadata": {},
   "outputs": [],
   "source": []
  },
  {
   "cell_type": "code",
   "execution_count": 3,
   "id": "38157f14-a80c-4849-a120-eaf745cadeaa",
   "metadata": {
    "tags": []
   },
   "outputs": [
    {
     "ename": "SyntaxError",
     "evalue": "invalid syntax (<ipython-input-3-efd5212f5cc6>, line 7)",
     "output_type": "error",
     "traceback": [
      "\u001b[1;36m  File \u001b[1;32m\"<ipython-input-3-efd5212f5cc6>\"\u001b[1;36m, line \u001b[1;32m7\u001b[0m\n\u001b[1;33m    return [ (11771984, 'Daniel', 'Skauge'), (123 '...', '...')]\u001b[0m\n\u001b[1;37m                                                  ^\u001b[0m\n\u001b[1;31mSyntaxError\u001b[0m\u001b[1;31m:\u001b[0m invalid syntax\n"
     ]
    }
   ],
   "source": [
    "def my_team():\n",
    "    '''\n",
    "    Return the list of the team members of this assignment submission as a list\n",
    "    of triplet of the form (student_number, first_name, last_name)\n",
    "    \n",
    "    '''\n",
    "    return [(11771984, 'Daniel', 'Skauge'), (123, '...', '...')]"
   ]
  },
  {
   "cell_type": "code",
   "execution_count": 14,
   "id": "d3199673-736c-4132-b25e-f7d11d33b67f",
   "metadata": {
    "tags": []
   },
   "outputs": [
    {
     "ename": "SyntaxError",
     "evalue": "unexpected EOF while parsing (<ipython-input-14-1a132ed414d0>, line 118)",
     "output_type": "error",
     "traceback": [
      "\u001b[1;36m  File \u001b[1;32m\"<ipython-input-14-1a132ed414d0>\"\u001b[1;36m, line \u001b[1;32m118\u001b[0m\n\u001b[1;33m    def result(self, state, action):\u001b[0m\n\u001b[1;37m                                    ^\u001b[0m\n\u001b[1;31mSyntaxError\u001b[0m\u001b[1;31m:\u001b[0m unexpected EOF while parsing\n"
     ]
    }
   ],
   "source": [
    "\n"
   ]
  },
  {
   "cell_type": "code",
   "execution_count": 5,
   "id": "717928f7-2ac8-4b79-87e0-d41b4f067fb2",
   "metadata": {
    "tags": []
   },
   "outputs": [],
   "source": [
    "def check_action_seq(warehouse, action_seq):\n",
    "\n",
    "       \n",
    "    '''\n",
    "    \n",
    "    Determine if the sequence of actions listed in 'action_seq' is legal or not.\n",
    "    \n",
    "    Important notes:\n",
    "      - a legal sequence of actions does not necessarily solve the puzzle.\n",
    "      - an action is legal even if it pushes a box onto a taboo cell.\n",
    "        \n",
    "    @param warehouse: a valid Warehouse object\n",
    "\n",
    "    @param action_seq: a sequence of legal actions.\n",
    "           For example, ['Left', 'Down', Down','Right', 'Up', 'Down']\n",
    "           \n",
    "    @return\n",
    "        The string 'Failure', if one of the action was not successul.\n",
    "           For example, if the agent tries to push two boxes at the same time,\n",
    "                        or push one box into a wall.\n",
    "        Otherwise, if all actions were successful, return                 \n",
    "               A string representing the state of the puzzle after applying\n",
    "               the sequence of actions.  This must be the same string as the\n",
    "               string returned by the method  Warehouse.__str__()\n",
    "    '''\n",
    "    \n",
    "    ##         \"INSERT YOUR CODE HERE\"\n",
    "    \n",
    "    raise NotImplementedError()\n"
   ]
  },
  {
   "cell_type": "code",
   "execution_count": 4,
   "id": "279941fd-1dfa-445b-a611-b9a7563ebadb",
   "metadata": {
    "tags": []
   },
   "outputs": [],
   "source": [
    "def solve_sokoban_elem(warehouse):\n",
    "    '''    \n",
    "    This function should solve using elementary actions \n",
    "    the puzzle defined in a file.\n",
    "    \n",
    "    @param warehouse: a valid Warehouse object\n",
    "\n",
    "    @return\n",
    "        If puzzle cannot be solved return the string 'Impossible'\n",
    "        If a solution was found, return a list of elementary actions that solves\n",
    "            the given puzzle coded with 'Left', 'Right', 'Up', 'Down'\n",
    "            For example, ['Left', 'Down', Down','Right', 'Up', 'Down']\n",
    "            If the puzzle is already in a goal state, simply return []\n",
    "    '''\n",
    "    \n",
    "    ##         \"INSERT YOUR CODE HERE\"\n",
    "    \n",
    "    raise NotImplementedError()"
   ]
  },
  {
   "cell_type": "code",
   "execution_count": 12,
   "id": "68285bfb-6051-4c45-aa4f-3abf1bc3053a",
   "metadata": {
    "tags": []
   },
   "outputs": [],
   "source": [
    "\n",
    "    "
   ]
  },
  {
   "cell_type": "code",
   "execution_count": 6,
   "id": "640ee872-df9e-43d6-827c-d398d60e3750",
   "metadata": {
    "tags": []
   },
   "outputs": [],
   "source": [
    "def solve_sokoban_macro(warehouse):\n",
    "    '''    \n",
    "    Solve using macro actions the puzzle defined in the warehouse passed as\n",
    "    a parameter. A sequence of macro actions should be \n",
    "    represented by a list M of the form\n",
    "            [ ((r1,c1), a1), ((r2,c2), a2), ..., ((rn,cn), an) ]\n",
    "    For example M = [ ((3,4),'Left') , ((5,2),'Up'), ((12,4),'Down') ] \n",
    "    means that the worker first goes the box at row 3 and column 4 and pushes it left,\n",
    "    then goes to the box at row 5 and column 2 and pushes it up, and finally\n",
    "    goes the box at row 12 and column 4 and pushes it down.\n",
    "    \n",
    "    @param warehouse: a valid Warehouse object\n",
    "\n",
    "    @return\n",
    "        If puzzle cannot be solved return the string 'Impossible'\n",
    "        Otherwise return M a sequence of macro actions that solves the puzzle.\n",
    "        If the puzzle is already in a goal state, simply return []\n",
    "    '''\n",
    "    \n",
    "    ##         \"INSERT YOUR CODE HERE\"\n",
    "    \n",
    "    raise NotImplementedError()"
   ]
  }
 ],
 "metadata": {
  "kernelspec": {
   "display_name": "Python 3 (ipykernel)",
   "language": "python",
   "name": "python3"
  },
  "language_info": {
   "codemirror_mode": {
    "name": "ipython",
    "version": 3
   },
   "file_extension": ".py",
   "mimetype": "text/x-python",
   "name": "python",
   "nbconvert_exporter": "python",
   "pygments_lexer": "ipython3",
   "version": "3.8.12"
  }
 },
 "nbformat": 4,
 "nbformat_minor": 5
}
