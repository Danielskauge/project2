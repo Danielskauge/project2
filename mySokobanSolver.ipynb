{
 "cells": [
  {
   "cell_type": "markdown",
   "id": "9a16cf36-fd5b-4483-b427-302157db3600",
   "metadata": {
    "tags": []
   },
   "source": [
    "### IFN680 Sokoban Assignment\n",
    "\n",
    "\n",
    "The functions and classes defined in this module will be called by a marker script. \n",
    "You should complete the functions and classes according to their specified interfaces.\n",
    "\n",
    "You are not allowed to change the defined interfaces.\n",
    "That is, changing the formal parameters of a function will break the \n",
    "interface and triggers to a fail for the test of your code.\n",
    " "
   ]
  },
  {
   "cell_type": "code",
   "execution_count": 9,
   "id": "41a45ba6-19b2-448e-a1d5-4e0fff3fe580",
   "metadata": {
    "tags": []
   },
   "outputs": [],
   "source": [
    "# Imports\n",
    "import search\n",
    "from sokoban import *\n",
    "from sokoban import find_2D_iterator\n",
    "import math\n",
    "from collections import namedtuple\n",
    "from tabooCells import taboo_cells\n",
    "from SokobanPuzzle import *\n",
    "from canGoThereSearch import *\n",
    "from CheckActionSeq import *"
   ]
  },
  {
   "cell_type": "code",
   "execution_count": 43,
   "id": "38157f14-a80c-4849-a120-eaf745cadeaa",
   "metadata": {
    "tags": []
   },
   "outputs": [],
   "source": [
    "def my_team():\n",
    "    '''\n",
    "    Return the list of the team members of this assignment submission as a list\n",
    "    of triplet of the form (student_number, first_name, last_name)\n",
    "    \n",
    "    '''\n",
    "    return [(11771984, 'Daniel', 'Skauge'), (11771861, 'Erlend', 'Eiring')]"
   ]
  }
 ],
 "metadata": {
  "kernelspec": {
   "display_name": "Python 3 (ipykernel)",
   "language": "python",
   "name": "python3"
  },
  "language_info": {
   "codemirror_mode": {
    "name": "ipython",
    "version": 3
   },
   "file_extension": ".py",
   "mimetype": "text/x-python",
   "name": "python",
   "nbconvert_exporter": "python",
   "pygments_lexer": "ipython3",
   "version": "3.8.12"
  }
 },
 "nbformat": 4,
 "nbformat_minor": 5
}
