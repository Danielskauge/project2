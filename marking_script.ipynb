{
 "cells": [
  {
   "cell_type": "code",
   "execution_count": 1,
   "id": "a621debc-cb46-43bd-9136-602a223fc287",
   "metadata": {
    "tags": []
   },
   "outputs": [
    {
     "name": "stdout",
     "output_type": "stream",
     "text": [
      "runned\n"
     ]
    }
   ],
   "source": [
    "from CheckActionSeq import *\n",
    "from canGoThereSearch import *\n",
    "from SokobanPuzzle import *\n",
    "from tabooCells import taboo_cells\n",
    "from collections import namedtuple\n",
    "import math\n",
    "from sokoban import find_2D_iterator\n",
    "from sokoban import *\n",
    "from solveSokoban import *\n",
    "import search\n",
    "#%run mySokobanSolver.ipynb\n",
    "# Imports\n",
    "'''\n",
    "\n",
    "\n",
    "This script tests functions in your submission 'mySokobanSolver.py'\n",
    "\n",
    "A similar script (with different inputs) will be used for marking your code.\n",
    "\n",
    "Make sure that your code runs without errors with this script.\n",
    "\n",
    "\n",
    "'''\n",
    "\n",
    "\n",
    "from sokoban import Warehouse\n",
    "print('runned')\n",
    "    \n",
    "def test_taboo_cells():\n",
    "    wh = Warehouse()\n",
    "    print('testing taboo')\n",
    "    wh.load_warehouse(\"./warehouses/warehouse_01.txt\")\n",
    "    expected_answer = '####  \\n#X #  \\n#  ###\\n#   X#\\n#   X#\\n#XX###\\n####  '\n",
    "    answer = taboo_cells(wh)\n",
    "    fcn = test_taboo_cells    \n",
    "    print('<<  Testing {} >>'.format(fcn.__name__))\n",
    "    if answer==expected_answer:\n",
    "        print(fcn.__name__, ' passed!  :-)\\n')\n",
    "    else:\n",
    "        print(fcn.__name__, ' failed!  :-(\\n')\n",
    "        print('Expected ');print(expected_answer)\n",
    "        print('But, received ');print(answer)\n",
    "        \n",
    "\n",
    "\n",
    "def test_check_elem_action_seq():\n",
    "    wh = Warehouse()\n",
    "    wh.load_warehouse(\"./warehouses/warehouse_01.txt\")\n",
    "    # first test\n",
    "    answer = check_action_seq(wh, ['Right', 'Right','Down'])\n",
    "    expected_answer = '####  \\n# .#  \\n#  ###\\n#*   #\\n#  $@#\\n#  ###\\n####  '\n",
    "    fcn = test_check_elem_action_seq    \n",
    "    print('<<  First test of {} >>'.format(fcn.__name__))\n",
    "    if answer==expected_answer:\n",
    "        print(fcn.__name__, ' passed!  :-)\\n')\n",
    "    else:\n",
    "        print(fcn.__name__, ' failed!  :-(\\n')\n",
    "        print('Expected ');print(expected_answer)\n",
    "        print('But, received ');print(answer)\n",
    "    # second test\n",
    "    answer = check_action_seq(wh, ['Right', 'Right','Right'])\n",
    "    expected_answer = 'Failure'\n",
    "    fcn = test_check_elem_action_seq    \n",
    "    print('<<  Second test of {} >>'.format(fcn.__name__))\n",
    "    if answer==expected_answer:\n",
    "        print(fcn.__name__, ' passed!  :-)\\n')\n",
    "    else:\n",
    "        print(fcn.__name__, ' failed!  :-(\\n')\n",
    "        print('Expected ');print(expected_answer)\n",
    "        print('But, received ');print(answer)\n",
    "\n",
    "\n",
    "\n",
    "def test_solve_sokoban_elem():\n",
    "    puzzle_t1 ='#######\\n#@ $. #\\n#######'\n",
    "    wh = Warehouse()    \n",
    "    wh.extract_locations(puzzle_t1.split(sep='\\n'))\n",
    "    # first test\n",
    "    answer = solve_sokoban_elem(wh)\n",
    "    expected_answer = ['Right', 'Right']\n",
    "    fcn = test_solve_sokoban_elem\n",
    "    print('<<  First test of {} >>'.format(fcn.__name__))\n",
    "    if answer==expected_answer:\n",
    "        print(fcn.__name__, ' passed!  :-)\\n')\n",
    "    else:\n",
    "        print(fcn.__name__, ' failed!  :-(\\n')\n",
    "        print('Expected ');print(expected_answer)\n",
    "        print('But, received ');print(answer)\n",
    "    # second test\n",
    "    puzzle_t2 ='#######\\n#@ $ #.#\\n#######'\n",
    "    wh = Warehouse()    \n",
    "    wh.extract_locations(puzzle_t2.split(sep='\\n'))\n",
    "    # second test\n",
    "    answer = solve_sokoban_elem(wh)\n",
    "    expected_answer = ['Impossible']\n",
    "    print('<<  Second test of {} >>'.format(fcn.__name__))\n",
    "    if answer==expected_answer:\n",
    "        print(fcn.__name__, ' passed!  :-)\\n')\n",
    "    else:\n",
    "        print(fcn.__name__, ' failed!  :-(\\n')\n",
    "        print('Expected ');print(expected_answer)\n",
    "        print('But, received ');print(answer)\n",
    "        \n",
    "\n",
    "def test_can_go_there():\n",
    "    puzzle_t1 ='#######\\n#@ $. #\\n#######'\n",
    "    wh = Warehouse()    \n",
    "    wh.extract_locations(puzzle_t1.split(sep='\\n'))\n",
    "    # first test\n",
    "    answer = can_go_there(wh,(1,2))\n",
    "    expected_answer = True\n",
    "    fcn = test_can_go_there\n",
    "    print('<<  First test of {} >>'.format(fcn.__name__))\n",
    "    if answer==expected_answer:\n",
    "        print(fcn.__name__, ' passed!  :-)\\n')\n",
    "    else:\n",
    "        print(fcn.__name__, ' failed!  :-(\\n')\n",
    "        print('Expected ');print(expected_answer)\n",
    "        print('But, received ');print(answer)\n",
    "    # second test\n",
    "    answer = can_go_there(wh,(1,5))\n",
    "    expected_answer = False\n",
    "    print('<<  Second test of {} >>'.format(fcn.__name__))\n",
    "    if answer==expected_answer:\n",
    "        print(fcn.__name__, ' passed!  :-)\\n')\n",
    "    else:\n",
    "        print(fcn.__name__, ' failed!  :-(\\n')\n",
    "        print('Expected ');print(expected_answer)\n",
    "        print('But, received ');print(answer)\n",
    "\n",
    "def test_solve_sokoban_macro():\n",
    "    puzzle_t2 ='#######\\n#@ $ .#\\n#######'\n",
    "    wh = Warehouse()    \n",
    "    wh.extract_locations(puzzle_t2.split(sep='\\n'))\n",
    "    # first test\n",
    "    answer=solve_sokoban_macro(wh)\n",
    "    expected_answer = [((1, 3), 'Right'), ((1, 4), 'Right')]\n",
    "    fcn = test_solve_sokoban_macro\n",
    "    print('<<  First test of {} >>'.format(fcn.__name__))\n",
    "    if answer==expected_answer:\n",
    "        print(fcn.__name__, ' passed!  :-)\\n')\n",
    "    else:\n",
    "        print(fcn.__name__, ' failed!  :-(\\n')\n",
    "        print('Expected ');print(expected_answer)\n",
    "        print('But, received ');print(answer)\n",
    "\n",
    "    \n",
    "\n",
    "\n",
    "\n"
   ]
  },
  {
   "cell_type": "code",
   "execution_count": 2,
   "id": "1c0dbba1-8b2a-4a84-b149-18752f77d3c1",
   "metadata": {},
   "outputs": [
    {
     "name": "stdout",
     "output_type": "stream",
     "text": [
      "############################## Sanity Check Output ##############################\n"
     ]
    },
    {
     "ename": "NameError",
     "evalue": "name 'my_team' is not defined",
     "output_type": "error",
     "traceback": [
      "\u001b[1;31m---------------------------------------------------------------------------\u001b[0m",
      "\u001b[1;31mNameError\u001b[0m                                 Traceback (most recent call last)",
      "\u001b[1;32m<ipython-input-2-77673d2b2bd9>\u001b[0m in \u001b[0;36m<module>\u001b[1;34m\u001b[0m\n\u001b[0;32m      1\u001b[0m \u001b[0mprint\u001b[0m\u001b[1;33m(\u001b[0m\u001b[1;34m'############################## Sanity Check Output ##############################'\u001b[0m\u001b[1;33m)\u001b[0m\u001b[1;33m\u001b[0m\u001b[1;33m\u001b[0m\u001b[0m\n\u001b[0;32m      2\u001b[0m \u001b[1;33m\u001b[0m\u001b[0m\n\u001b[1;32m----> 3\u001b[1;33m \u001b[0mprint\u001b[0m\u001b[1;33m(\u001b[0m\u001b[0mmy_team\u001b[0m\u001b[1;33m(\u001b[0m\u001b[1;33m)\u001b[0m\u001b[1;33m)\u001b[0m  \u001b[1;31m# should print your team\u001b[0m\u001b[1;33m\u001b[0m\u001b[1;33m\u001b[0m\u001b[0m\n\u001b[0m",
      "\u001b[1;31mNameError\u001b[0m: name 'my_team' is not defined"
     ]
    }
   ],
   "source": [
    "print('############################## Sanity Check Output ##############################')\n",
    "\n",
    "print(my_team())  # should print your team\n"
   ]
  },
  {
   "cell_type": "code",
   "execution_count": 20,
   "id": "957ee8c3-ebdd-475a-8d83-f65c08fbb6bd",
   "metadata": {},
   "outputs": [
    {
     "name": "stdout",
     "output_type": "stream",
     "text": [
      "testing taboo\n",
      "newest\n",
      "<<  Testing test_taboo_cells >>\n",
      "test_taboo_cells  passed!  :-)\n",
      "\n"
     ]
    }
   ],
   "source": [
    "test_taboo_cells() "
   ]
  },
  {
   "cell_type": "code",
   "execution_count": 21,
   "id": "fb0bfa2f",
   "metadata": {},
   "outputs": [
    {
     "name": "stdout",
     "output_type": "stream",
     "text": [
      "newest\n"
     ]
    },
    {
     "ename": "TypeError",
     "evalue": "cannot unpack non-iterable NoneType object",
     "output_type": "error",
     "traceback": [
      "\u001b[1;31m---------------------------------------------------------------------------\u001b[0m",
      "\u001b[1;31mTypeError\u001b[0m                                 Traceback (most recent call last)",
      "\u001b[1;32m<ipython-input-21-236a40682386>\u001b[0m in \u001b[0;36m<module>\u001b[1;34m\u001b[0m\n\u001b[1;32m----> 1\u001b[1;33m \u001b[0mtest_check_elem_action_seq\u001b[0m\u001b[1;33m(\u001b[0m\u001b[1;33m)\u001b[0m\u001b[1;33m\u001b[0m\u001b[1;33m\u001b[0m\u001b[0m\n\u001b[0m",
      "\u001b[1;32m<ipython-input-19-b347c0cb1b95>\u001b[0m in \u001b[0;36mtest_check_elem_action_seq\u001b[1;34m()\u001b[0m\n\u001b[0;32m     48\u001b[0m     \u001b[0mwh\u001b[0m\u001b[1;33m.\u001b[0m\u001b[0mload_warehouse\u001b[0m\u001b[1;33m(\u001b[0m\u001b[1;34m\"./warehouses/warehouse_01.txt\"\u001b[0m\u001b[1;33m)\u001b[0m\u001b[1;33m\u001b[0m\u001b[1;33m\u001b[0m\u001b[0m\n\u001b[0;32m     49\u001b[0m     \u001b[1;31m# first test\u001b[0m\u001b[1;33m\u001b[0m\u001b[1;33m\u001b[0m\u001b[1;33m\u001b[0m\u001b[0m\n\u001b[1;32m---> 50\u001b[1;33m     \u001b[0manswer\u001b[0m \u001b[1;33m=\u001b[0m \u001b[0mcheck_action_seq\u001b[0m\u001b[1;33m(\u001b[0m\u001b[0mwh\u001b[0m\u001b[1;33m,\u001b[0m \u001b[1;33m[\u001b[0m\u001b[1;34m'Right'\u001b[0m\u001b[1;33m,\u001b[0m \u001b[1;34m'Right'\u001b[0m\u001b[1;33m,\u001b[0m\u001b[1;34m'Down'\u001b[0m\u001b[1;33m]\u001b[0m\u001b[1;33m)\u001b[0m\u001b[1;33m\u001b[0m\u001b[1;33m\u001b[0m\u001b[0m\n\u001b[0m\u001b[0;32m     51\u001b[0m     \u001b[0mexpected_answer\u001b[0m \u001b[1;33m=\u001b[0m \u001b[1;34m'####  \\n# .#  \\n#  ###\\n#*   #\\n#  $@#\\n#  ###\\n####  '\u001b[0m\u001b[1;33m\u001b[0m\u001b[1;33m\u001b[0m\u001b[0m\n\u001b[0;32m     52\u001b[0m     \u001b[0mfcn\u001b[0m \u001b[1;33m=\u001b[0m \u001b[0mtest_check_elem_action_seq\u001b[0m\u001b[1;33m\u001b[0m\u001b[1;33m\u001b[0m\u001b[0m\n",
      "\u001b[1;32mc:\\Users\\Daniel\\Documents\\QUT\\AI&ML\\project2\\CheckActionSeq.py\u001b[0m in \u001b[0;36mcheck_action_seq\u001b[1;34m(warehouse, action_seq)\u001b[0m\n\u001b[0;32m     37\u001b[0m         if puzzel.is_valid_elementary_action(\n\u001b[0;32m     38\u001b[0m             \u001b[0mpuzzel\u001b[0m\u001b[1;33m.\u001b[0m\u001b[0mstate\u001b[0m\u001b[1;33m.\u001b[0m\u001b[0mworker\u001b[0m\u001b[1;33m,\u001b[0m\u001b[1;33m\u001b[0m\u001b[1;33m\u001b[0m\u001b[0m\n\u001b[1;32m---> 39\u001b[1;33m             \u001b[0maction\u001b[0m\u001b[1;33m,\u001b[0m\u001b[1;33m\u001b[0m\u001b[1;33m\u001b[0m\u001b[0m\n\u001b[0m\u001b[0;32m     40\u001b[0m             \u001b[0mpuzzel\u001b[0m\u001b[1;33m.\u001b[0m\u001b[0mstate\u001b[0m\u001b[1;33m\u001b[0m\u001b[1;33m\u001b[0m\u001b[0m\n\u001b[0;32m     41\u001b[0m         ):\n",
      "\u001b[1;32mc:\\Users\\Daniel\\Documents\\QUT\\AI&ML\\project2\\SokobanPuzzle.py\u001b[0m in \u001b[0;36mis_valid_elementary_action\u001b[1;34m(self, worker, dir, state)\u001b[0m\n\u001b[0;32m    105\u001b[0m     \u001b[1;32mdef\u001b[0m \u001b[0mis_valid_elementary_action\u001b[0m\u001b[1;33m(\u001b[0m\u001b[0mself\u001b[0m\u001b[1;33m,\u001b[0m \u001b[0mworker\u001b[0m\u001b[1;33m,\u001b[0m \u001b[0mdir\u001b[0m\u001b[1;33m,\u001b[0m \u001b[0mstate\u001b[0m\u001b[1;33m)\u001b[0m\u001b[1;33m:\u001b[0m\u001b[1;33m\u001b[0m\u001b[1;33m\u001b[0m\u001b[0m\n\u001b[0;32m    106\u001b[0m         \u001b[0mcandidate_cell\u001b[0m \u001b[1;33m=\u001b[0m \u001b[0mself\u001b[0m\u001b[1;33m.\u001b[0m\u001b[0mget_neighbor_cell_in_direction\u001b[0m\u001b[1;33m(\u001b[0m\u001b[0mworker\u001b[0m\u001b[1;33m,\u001b[0m \u001b[0mdir\u001b[0m\u001b[1;33m)\u001b[0m\u001b[1;33m\u001b[0m\u001b[1;33m\u001b[0m\u001b[0m\n\u001b[1;32m--> 107\u001b[1;33m         \u001b[1;32mif\u001b[0m \u001b[1;32mnot\u001b[0m \u001b[0mself\u001b[0m\u001b[1;33m.\u001b[0m\u001b[0mwarehouse\u001b[0m\u001b[1;33m.\u001b[0m\u001b[0mis_in_warehouse\u001b[0m\u001b[1;33m(\u001b[0m\u001b[0mcandidate_cell\u001b[0m\u001b[1;33m)\u001b[0m\u001b[1;33m:\u001b[0m\u001b[1;33m\u001b[0m\u001b[1;33m\u001b[0m\u001b[0m\n\u001b[0m\u001b[0;32m    108\u001b[0m             \u001b[1;32mreturn\u001b[0m \u001b[1;32mFalse\u001b[0m\u001b[1;33m\u001b[0m\u001b[1;33m\u001b[0m\u001b[0m\n\u001b[0;32m    109\u001b[0m         \u001b[1;32mif\u001b[0m \u001b[0mcandidate_cell\u001b[0m \u001b[1;32min\u001b[0m \u001b[0mstate\u001b[0m\u001b[1;33m.\u001b[0m\u001b[0mwalls\u001b[0m\u001b[1;33m:\u001b[0m\u001b[1;33m\u001b[0m\u001b[1;33m\u001b[0m\u001b[0m\n",
      "\u001b[1;32mc:\\Users\\Daniel\\Documents\\QUT\\AI&ML\\project2\\sokoban.py\u001b[0m in \u001b[0;36mis_in_warehouse\u001b[1;34m(self, cell)\u001b[0m\n\u001b[0;32m    178\u001b[0m         \u001b[0mmax_y\u001b[0m \u001b[1;33m=\u001b[0m \u001b[0mmax\u001b[0m\u001b[1;33m(\u001b[0m\u001b[0mwall\u001b[0m\u001b[1;33m[\u001b[0m\u001b[1;36m1\u001b[0m\u001b[1;33m]\u001b[0m \u001b[1;32mfor\u001b[0m \u001b[0mwall\u001b[0m \u001b[1;32min\u001b[0m \u001b[0mself\u001b[0m\u001b[1;33m.\u001b[0m\u001b[0mwalls\u001b[0m\u001b[1;33m)\u001b[0m\u001b[1;33m\u001b[0m\u001b[1;33m\u001b[0m\u001b[0m\n\u001b[0;32m    179\u001b[0m \u001b[1;33m\u001b[0m\u001b[0m\n\u001b[1;32m--> 180\u001b[1;33m         \u001b[0mx\u001b[0m\u001b[1;33m,\u001b[0m \u001b[0my\u001b[0m \u001b[1;33m=\u001b[0m \u001b[0mcell\u001b[0m\u001b[1;33m\u001b[0m\u001b[1;33m\u001b[0m\u001b[0m\n\u001b[0m\u001b[0;32m    181\u001b[0m         \u001b[1;32mreturn\u001b[0m \u001b[0mmin_x\u001b[0m \u001b[1;33m<=\u001b[0m \u001b[0mx\u001b[0m \u001b[1;33m<=\u001b[0m \u001b[0mmax_x\u001b[0m \u001b[1;32mand\u001b[0m \u001b[0mmin_y\u001b[0m \u001b[1;33m<=\u001b[0m \u001b[0my\u001b[0m \u001b[1;33m<=\u001b[0m \u001b[0mmax_y\u001b[0m\u001b[1;33m\u001b[0m\u001b[1;33m\u001b[0m\u001b[0m\n\u001b[0;32m    182\u001b[0m \u001b[1;33m\u001b[0m\u001b[0m\n",
      "\u001b[1;31mTypeError\u001b[0m: cannot unpack non-iterable NoneType object"
     ]
    }
   ],
   "source": [
    "test_check_elem_action_seq()\n"
   ]
  },
  {
   "cell_type": "code",
   "execution_count": 3,
   "id": "b5359859",
   "metadata": {},
   "outputs": [
    {
     "name": "stdout",
     "output_type": "stream",
     "text": [
      "newest\n",
      "<<  First test of test_solve_sokoban_elem >>\n",
      "test_solve_sokoban_elem  passed!  :-)\n",
      "\n",
      "newest\n",
      "<<  Second test of test_solve_sokoban_elem >>\n",
      "test_solve_sokoban_elem  passed!  :-)\n",
      "\n"
     ]
    }
   ],
   "source": [
    "test_solve_sokoban_elem()\n"
   ]
  },
  {
   "cell_type": "code",
   "execution_count": 5,
   "id": "b44ae78b",
   "metadata": {},
   "outputs": [
    {
     "name": "stdout",
     "output_type": "stream",
     "text": [
      "<<  First test of test_can_go_there >>\n",
      "test_can_go_there  passed!  :-)\n",
      "\n",
      "<<  Second test of test_can_go_there >>\n",
      "test_can_go_there  passed!  :-)\n",
      "\n"
     ]
    }
   ],
   "source": [
    "test_can_go_there()\n"
   ]
  },
  {
   "cell_type": "code",
   "execution_count": 5,
   "id": "6fb8cc35",
   "metadata": {},
   "outputs": [
    {
     "name": "stdout",
     "output_type": "stream",
     "text": [
      "newest\n",
      "<<  First test of test_solve_sokoban_macro >>\n",
      "test_solve_sokoban_macro  failed!  :-(\n",
      "\n",
      "Expected \n",
      "[((1, 3), 'Right'), ((1, 4), 'Right')]\n",
      "But, received \n",
      "['Impossible']\n",
      "#################################################################################\n"
     ]
    }
   ],
   "source": [
    "test_solve_sokoban_macro()   \n",
    "\n",
    "print('#################################################################################')"
   ]
  }
 ],
 "metadata": {
  "kernelspec": {
   "display_name": "Python 3 (ipykernel)",
   "language": "python",
   "name": "python3"
  },
  "language_info": {
   "codemirror_mode": {
    "name": "ipython",
    "version": 3
   },
   "file_extension": ".py",
   "mimetype": "text/x-python",
   "name": "python",
   "nbconvert_exporter": "python",
   "pygments_lexer": "ipython3",
   "version": "3.8.12"
  }
 },
 "nbformat": 4,
 "nbformat_minor": 5
}
