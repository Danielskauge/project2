{
 "cells": [
  {
   "cell_type": "code",
   "execution_count": 1,
   "id": "a621debc-cb46-43bd-9136-602a223fc287",
   "metadata": {
    "tags": []
   },
   "outputs": [],
   "source": [
    "%run mySokobanSolver.ipynb\n",
    "import tabooCells\n",
    "\n",
    "'''\n",
    "\n",
    "This script tests functions in your submission 'mySokobanSolver.py'\n",
    "\n",
    "A similar script (with different inputs) will be used for marking your code.\n",
    "\n",
    "Make sure that your code runs without errors with this script.\n",
    "\n",
    "\n",
    "'''\n",
    "\n",
    "\n",
    "from sokoban import Warehouse\n",
    "\n",
    "    \n",
    "def test_taboo_cells():\n",
    "    wh = Warehouse()\n",
    "    wh.load_warehouse(\"./warehouses/warehouse_01.txt\")\n",
    "    expected_answer = '####  \\n#X #  \\n#  ###\\n#   X#\\n#   X#\\n#XX###\\n####  '\n",
    "    answer = taboo_cells(wh)\n",
    "    fcn = test_taboo_cells    \n",
    "    print('<<  Testing {} >>'.format(fcn.__name__))\n",
    "    if answer==expected_answer:\n",
    "        print(fcn.__name__, ' passed!  :-)\\n')\n",
    "    else:\n",
    "        print(fcn.__name__, ' failed!  :-(\\n')\n",
    "        print('Expected ');print(expected_answer)\n",
    "        print('But, received ');print(answer)\n",
    "        \n",
    "\n",
    "\n",
    "def test_check_elem_action_seq():\n",
    "    wh = Warehouse()\n",
    "    wh.load_warehouse(\"./warehouses/warehouse_01.txt\")\n",
    "    # first test\n",
    "    answer = check_action_seq(wh, ['Right', 'Right','Down'])\n",
    "    expected_answer = '####  \\n# .#  \\n#  ###\\n#*   #\\n#  $@#\\n#  ###\\n####  '\n",
    "    fcn = test_check_elem_action_seq    \n",
    "    print('<<  First test of {} >>'.format(fcn.__name__))\n",
    "    if answer==expected_answer:\n",
    "        print(fcn.__name__, ' passed!  :-)\\n')\n",
    "    else:\n",
    "        print(fcn.__name__, ' failed!  :-(\\n')\n",
    "        print('Expected ');print(expected_answer)\n",
    "        print('But, received ');print(answer)\n",
    "    # second test\n",
    "    answer = check_action_seq(wh, ['Right', 'Right','Right'])\n",
    "    expected_answer = 'Failure'\n",
    "    fcn = test_check_elem_action_seq    \n",
    "    print('<<  Second test of {} >>'.format(fcn.__name__))\n",
    "    if answer==expected_answer:\n",
    "        print(fcn.__name__, ' passed!  :-)\\n')\n",
    "    else:\n",
    "        print(fcn.__name__, ' failed!  :-(\\n')\n",
    "        print('Expected ');print(expected_answer)\n",
    "        print('But, received ');print(answer)\n",
    "\n",
    "\n",
    "\n",
    "def test_solve_sokoban_elem():\n",
    "    puzzle_t1 ='#######\\n#@ $. #\\n#######'\n",
    "    wh = Warehouse()    \n",
    "    wh.extract_locations(puzzle_t1.split(sep='\\n'))\n",
    "    # first test\n",
    "    answer = solve_sokoban_elem(wh)\n",
    "    expected_answer = ['Right', 'Right']\n",
    "    fcn = test_solve_sokoban_elem\n",
    "    print('<<  First test of {} >>'.format(fcn.__name__))\n",
    "    if answer==expected_answer:\n",
    "        print(fcn.__name__, ' passed!  :-)\\n')\n",
    "    else:\n",
    "        print(fcn.__name__, ' failed!  :-(\\n')\n",
    "        print('Expected ');print(expected_answer)\n",
    "        print('But, received ');print(answer)\n",
    "    # second test\n",
    "    puzzle_t2 ='#######\\n#@ $ #.#\\n#######'\n",
    "    wh = Warehouse()    \n",
    "    wh.extract_locations(puzzle_t2.split(sep='\\n'))\n",
    "    # second test\n",
    "    answer = solve_sokoban_elem(wh)\n",
    "    expected_answer = ['Impossible']\n",
    "    print('<<  Second test of {} >>'.format(fcn.__name__))\n",
    "    if answer==expected_answer:\n",
    "        print(fcn.__name__, ' passed!  :-)\\n')\n",
    "    else:\n",
    "        print(fcn.__name__, ' failed!  :-(\\n')\n",
    "        print('Expected ');print(expected_answer)\n",
    "        print('But, received ');print(answer)\n",
    "        \n",
    "\n",
    "def test_can_go_there():\n",
    "    puzzle_t1 ='#######\\n#@ $. #\\n#######'\n",
    "    wh = Warehouse()    \n",
    "    wh.extract_locations(puzzle_t1.split(sep='\\n'))\n",
    "    # first test\n",
    "    answer = can_go_there(wh,(1,2))\n",
    "    expected_answer = True\n",
    "    fcn = test_can_go_there\n",
    "    print('<<  First test of {} >>'.format(fcn.__name__))\n",
    "    if answer==expected_answer:\n",
    "        print(fcn.__name__, ' passed!  :-)\\n')\n",
    "    else:\n",
    "        print(fcn.__name__, ' failed!  :-(\\n')\n",
    "        print('Expected ');print(expected_answer)\n",
    "        print('But, received ');print(answer)\n",
    "    # second test\n",
    "    answer = can_go_there(wh,(1,5))\n",
    "    expected_answer = False\n",
    "    print('<<  Second test of {} >>'.format(fcn.__name__))\n",
    "    if answer==expected_answer:\n",
    "        print(fcn.__name__, ' passed!  :-)\\n')\n",
    "    else:\n",
    "        print(fcn.__name__, ' failed!  :-(\\n')\n",
    "        print('Expected ');print(expected_answer)\n",
    "        print('But, received ');print(answer)\n",
    "\n",
    "def test_solve_sokoban_macro():\n",
    "    puzzle_t2 ='#######\\n#@ $ .#\\n#######'\n",
    "    wh = Warehouse()    \n",
    "    wh.extract_locations(puzzle_t2.split(sep='\\n'))\n",
    "    # first test\n",
    "    answer=solve_sokoban_macro(wh)\n",
    "    expected_answer = [((1, 3), 'Right'), ((1, 4), 'Right')]\n",
    "    fcn = test_solve_sokoban_macro\n",
    "    print('<<  First test of {} >>'.format(fcn.__name__))\n",
    "    if answer==expected_answer:\n",
    "        print(fcn.__name__, ' passed!  :-)\\n')\n",
    "    else:\n",
    "        print(fcn.__name__, ' failed!  :-(\\n')\n",
    "        print('Expected ');print(expected_answer)\n",
    "        print('But, received ');print(answer)\n",
    "\n",
    "    \n",
    "\n",
    "\n",
    "\n"
   ]
  },
  {
   "cell_type": "code",
   "execution_count": 2,
   "id": "1c0dbba1-8b2a-4a84-b149-18752f77d3c1",
   "metadata": {},
   "outputs": [
    {
     "name": "stdout",
     "output_type": "stream",
     "text": [
      "############################## Sanity Check Output ##############################\n",
      "[(11771984, 'Daniel', 'Skauge'), (11771861, 'Erlend', 'Eiring')]\n"
     ]
    }
   ],
   "source": [
    "print('############################## Sanity Check Output ##############################')\n",
    "\n",
    "print(my_team())  # should print your team\n"
   ]
  },
  {
   "cell_type": "code",
   "execution_count": 3,
   "id": "957ee8c3-ebdd-475a-8d83-f65c08fbb6bd",
   "metadata": {},
   "outputs": [
    {
     "name": "stdout",
     "output_type": "stream",
     "text": [
      "<<  Testing test_taboo_cells >>\n",
      "test_taboo_cells  failed!  :-(\n",
      "\n",
      "Expected \n",
      "####  \n",
      "#X #  \n",
      "#  ###\n",
      "#   X#\n",
      "#   X#\n",
      "#XX###\n",
      "####  \n",
      "But, received \n",
      "####  \n",
      "#X #X \n",
      "#  ###\n",
      "#   X#\n",
      "#   X#\n",
      "#XX###\n",
      "####X \n"
     ]
    }
   ],
   "source": [
    "test_taboo_cells() "
   ]
  },
  {
   "cell_type": "code",
   "execution_count": 4,
   "id": "fb0bfa2f",
   "metadata": {},
   "outputs": [
    {
     "name": "stdout",
     "output_type": "stream",
     "text": [
      "<<  First test of test_check_elem_action_seq >>\n",
      "test_check_elem_action_seq  passed!  :-)\n",
      "\n",
      "<<  Second test of test_check_elem_action_seq >>\n",
      "test_check_elem_action_seq  passed!  :-)\n",
      "\n"
     ]
    }
   ],
   "source": [
    "test_check_elem_action_seq()\n"
   ]
  },
  {
   "cell_type": "code",
   "execution_count": 5,
   "id": "b5359859",
   "metadata": {},
   "outputs": [
    {
     "name": "stdout",
     "output_type": "stream",
     "text": [
      "<<  First test of test_solve_sokoban_elem >>\n",
      "test_solve_sokoban_elem  failed!  :-(\n",
      "\n",
      "Expected \n",
      "['Right', 'Right']\n",
      "But, received \n",
      "<Node State(walls=((0, 0), (1, 0), (2, 0), (3, 0), (4, 0), (5, 0), (6, 0), (0, 1), (6, 1), (0, 2), (1, 2), (2, 2), (3, 2), (4, 2), (5, 2), (6, 2)), boxes=((4, 1),), targets=((4, 1),), worker=(3, 1))>\n",
      "<<  Second test of test_solve_sokoban_elem >>\n",
      "test_solve_sokoban_elem  passed!  :-)\n",
      "\n"
     ]
    }
   ],
   "source": [
    "test_solve_sokoban_elem()\n"
   ]
  },
  {
   "cell_type": "code",
   "execution_count": 6,
   "id": "b44ae78b",
   "metadata": {},
   "outputs": [
    {
     "ename": "",
     "evalue": "",
     "output_type": "error",
     "traceback": [
      "\u001b[1;31mThe Kernel crashed while executing code in the the current cell or a previous cell. Please review the code in the cell(s) to identify a possible cause of the failure. Click <a href='https://aka.ms/vscodeJupyterKernelCrash'>here</a> for more info. View Jupyter <a href='command:jupyter.viewOutput'>log</a> for further details."
     ]
    }
   ],
   "source": [
    "test_can_go_there()\n"
   ]
  },
  {
   "cell_type": "code",
   "execution_count": null,
   "id": "6fb8cc35",
   "metadata": {},
   "outputs": [],
   "source": [
    "test_solve_sokoban_macro()   \n",
    "\n",
    "print('#################################################################################')"
   ]
  }
 ],
 "metadata": {
  "kernelspec": {
   "display_name": "Python 3 (ipykernel)",
   "language": "python",
   "name": "python3"
  },
  "language_info": {
   "codemirror_mode": {
    "name": "ipython",
    "version": 3
   },
   "file_extension": ".py",
   "mimetype": "text/x-python",
   "name": "python",
   "nbconvert_exporter": "python",
   "pygments_lexer": "ipython3",
   "version": "3.9.8"
  }
 },
 "nbformat": 4,
 "nbformat_minor": 5
}
